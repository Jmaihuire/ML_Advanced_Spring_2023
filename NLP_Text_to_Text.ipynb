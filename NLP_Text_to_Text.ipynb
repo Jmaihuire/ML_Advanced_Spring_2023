{
 "cells": [
  {
   "cell_type": "code",
   "execution_count": 1,
   "metadata": {
    "slideshow": {
     "slide_type": "notes"
    }
   },
   "outputs": [
    {
     "data": {
      "text/latex": [
       "$$\n",
       "\\newcommand{\\x}{\\mathbf{x}}\n",
       "\\newcommand{\\tx}{\\tilde{\\x}}\n",
       "\\newcommand{\\y}{\\mathbf{y}}\n",
       "\\newcommand{\\b}{\\mathbf{b}}\n",
       "\\newcommand{\\c}{\\mathbf{c}}\n",
       "\\newcommand{\\e}{\\mathbf{e}}\n",
       "\\newcommand{\\z}{\\mathbf{z}}\n",
       "\\newcommand{\\h}{\\mathbf{h}}\n",
       "\\newcommand{\\u}{\\mathbf{u}}\n",
       "\\newcommand{\\v}{\\mathbf{v}}\n",
       "\\newcommand{\\w}{\\mathbf{w}}\n",
       "\\newcommand{\\V}{\\mathbf{V}}\n",
       "\\newcommand{\\W}{\\mathbf{W}}\n",
       "\\newcommand{\\X}{\\mathbf{X}}\n",
       "\\newcommand{\\KL}{\\mathbf{KL}}\n",
       "\\newcommand{\\E}{{\\mathbb{E}}}\n",
       "\\newcommand{\\ip}{\\mathbf{{(i)}}}\n",
       "%\n",
       "% Test set\n",
       "\\newcommand{\\xt}{\\underline{\\x}}\n",
       "\\newcommand{\\yt}{\\underline{\\y}}\n",
       "\\newcommand{\\Xt}{\\underline{\\X}}\n",
       "\\newcommand{\\perfm}{\\mathcal{P}}\n",
       "%\n",
       "% \\ll indexes a layer; we can change the actual letter\n",
       "\\newcommand{\\ll}{l}\n",
       "\\newcommand{\\llp}{{(\\ll)}}\n",
       "%\n",
       "\\newcommand{Thetam}{\\Theta_{-0}}\n",
       "\n",
       "% CNN\n",
       "\\newcommand{\\kernel}{\\mathbf{k}} \n",
       "\\newcommand{\\dim}{d}\n",
       "\\newcommand{\\idxspatial}{{\\text{idx}}}\n",
       "\\newcommand{\\summaxact}{\\text{max}}\n",
       "%\n",
       "%\n",
       "\n",
       "% RNN\n",
       "% \\tt indexes a time step\n",
       "\\newcommand{\\tt}{t}\n",
       "\\newcommand{\\tp}{{(\\tt)}}\n",
       "%\n",
       "%\n",
       "\n",
       "% LSTM\n",
       "\\newcommand{\\g}{\\mathbf{g}}\n",
       "\\newcommand{\\remember}{\\mathbf{remember}}\n",
       "\\newcommand{\\save}{\\mathbf{save}}\n",
       "\\newcommand{\\focus}{\\mathbf{focus}}\n",
       "%\n",
       "%\n",
       "% NLP\n",
       "\\newcommand{\\Vocab}{\\mathbf{V}}\n",
       "\\newcommand{\\v}{\\mathbf{v}}\n",
       "\\newcommand{\\offset}{o}\n",
       "\\newcommand{\\o}{o}\n",
       "\\newcommand{\\E}{\\mathbf{E}}\n",
       "%\n",
       "%\n",
       "\\newcommand{\\loss}{\\mathcal{L}}\n",
       "\\newcommand{\\cost}{\\mathcal{L}}\n",
       "%\n",
       "%                     \n",
       "\\newcommand{\\pdata}{p_\\text{data}}\n",
       "\\newcommand{\\pmodel}{p_\\text{model}}\n",
       "%\n",
       "% SVM\n",
       "\\newcommand{\\margin}{{\\mathbb{m}}}\n",
       "\\newcommand{\\lmk}{\\boldsymbol{\\ell}}\n",
       "%\n",
       "% Functions with arguments\n",
       "\\def\\xsy#1#2{#1^#2}\n",
       "\\def\\rand#1{\\tilde{#1}}\n",
       "\\def\\randx{\\rand{\\x}}\n",
       "\\def\\randy{\\rand{\\y}}\n",
       "\\def\\trans#1{\\dot{#1}}\n",
       "\\def\\transx{\\trans{\\x}}\n",
       "\\def\\transy{\\trans{\\y}}\n",
       "%\n",
       "\\def\\argmax#1{\\underset{#1} {\\operatorname{argmax}} }\n",
       "\\def\\argmin#1{\\underset{#1} {\\operatorname{argmin}} }\n",
       "\\def\\max#1{\\underset{#1} {\\operatorname{max}} }\n",
       "\\def\\min#1{\\underset{#1} {\\operatorname{min}} }\n",
       "%\n",
       "\\def\\pr#1{\\mathcal{p}(#1)}\n",
       "\\def\\prc#1#2{\\mathcal{p}(#1 \\; | \\; #2)}\n",
       "\\def\\cnt#1{\\mathcal{count}_{#1}}\n",
       "\\def\\node#1{\\mathbb{#1}}\n",
       "%\n",
       "\\newcommand{\\floor}[1]{\\left\\lfloor #1 \\right\\rfloor}\n",
       "\\newcommand{\\ceil}[1]{\\left\\lceil #1 \\right\\rceil}\n",
       "%\n",
       "\\def\\loc#1{{\\text{##} {#1}}}\n",
       "%\n",
       "$$\n"
      ],
      "text/plain": [
       "<IPython.core.display.Latex object>"
      ]
     },
     "metadata": {},
     "output_type": "display_data"
    }
   ],
   "source": [
    "%run Latex_macros.ipynb"
   ]
  },
  {
   "cell_type": "markdown",
   "metadata": {},
   "source": [
    "# Text to Text: A Universal API for NLP\n",
    "\n",
    "[T5: Text to Text Transfer Transformer](https://arxiv.org/pdf/1910.10683.pdf)\n",
    "\n",
    "[T5 blog](https://ai.googleblog.com/2020/02/exploring-transfer-learning-with-t5.html)\n",
    "\n",
    "[Colab: Fine-Tuning T5 for Closed Book Answering](https://colab.research.google.com/github/google-research/text-to-text-transfer-transformer/blob/master/notebooks/t5-trivia.ipynb)\n",
    "- uses GCS and other tools: a little complex"
   ]
  },
  {
   "cell_type": "markdown",
   "metadata": {
    "slideshow": {
     "slide_type": "subslide"
    }
   },
   "source": [
    "*Natural Language Processing* is a very broad area, encompassing many seemingly diverse tasks\n",
    "- Classification: sentiment analysis\n",
    "- Summarization: short summary of long text\n",
    "- Translation: from one human language to another\n",
    "    - Less obvious\n",
    "        - description of a web page to HTML\n",
    "        - text to image\n",
    "- Multiple choice question answering\n",
    "    - [Open book:](https://ai.google.com/research/NaturalQuestions/visualization) paragraph (the \"context\") is given and the answer is contained within it\n",
    "        - as a continuous span of tokens\n",
    "    - Closed book: no context; all \"knowledge\" obtained from pre-training\n",
    "        - [T5 trivia contest demo](https://t5-trivia.glitch.me/)\n",
    "- Entailment: does one sentence (the \"hypothesis\") follow from another (the \"premise\")\n",
    "\n",
    "In the early days of Deep Learning, separate models where created (from scratch) for each task."
   ]
  },
  {
   "cell_type": "markdown",
   "metadata": {
    "slideshow": {
     "slide_type": "subslide"
    }
   },
   "source": [
    "*Transfer Learning* is the process of adapting a pre-trained model for a *Source* task into a model for a different *Target* Task.\n",
    "\n",
    "The process is \n",
    "- someone *pre-trains* a model for the Source Task on large, general training datasets\n",
    "- everyone else *fine-tunes* the model on smaller, Target-task specific training datasets.\n",
    "\n",
    "The more recent approach to NLP in Deep Learning is based on Transfer Learning.\n",
    "- the representation of text learned for the Source Task\n",
    "- seems to be useful for many potential Target Tasks"
   ]
  },
  {
   "cell_type": "markdown",
   "metadata": {
    "slideshow": {
     "slide_type": "subslide"
    }
   },
   "source": [
    "One impediment is that, on the surface, all the NLP tasks seem different.\n",
    "\n",
    "If we could \n",
    "- translate each task into an instance of a generic task\n",
    "- we could have one model for many tasks\n",
    "\n",
    "In other words: a *Universal API for NLP*.\n"
   ]
  },
  {
   "cell_type": "markdown",
   "metadata": {
    "slideshow": {
     "slide_type": "subslide"
    }
   },
   "source": [
    "There are a number of approaches to the Universal API but they can mostly be characterized\n",
    "as *Text to Text*\n",
    "- convert the (potentially structured) input for a particular NLP task to sequence of tokens\n",
    "- feed to the multi-task model\n",
    "- the answer to the particular NLP task is the Text output by the model\n",
    "\n",
    "Text to Text is the Universal API for NLP."
   ]
  },
  {
   "cell_type": "markdown",
   "metadata": {
    "slideshow": {
     "slide_type": "subslide"
    }
   },
   "source": [
    "Here is a diagram (from the GPT paper) explaining how the authors \n",
    "- translate the input for the Source task\n",
    "- into Text input for the multi-task model\n",
    "\n",
    "<table>\n",
    "    <tr>\n",
    "        <th><center>Task encoding (from GPT paper)</center></th>\n",
    "    </tr>\n",
    "    <tr>\n",
    "        <td><img src=\"images/LM_GPT_task_encoding.png\" width=80%></td>\n",
    "    </tr>\n",
    "    <tr>\n",
    "        <td><center>Picture from: https://cdn.openai.com/research-covers/language-unsupervised/language_understanding_paper.pdf</center></td>\n",
    "    </tr>   \n",
    "</table>"
   ]
  },
  {
   "cell_type": "markdown",
   "metadata": {
    "slideshow": {
     "slide_type": "subslide"
    }
   },
   "source": [
    "For example: the Multiple Choice task:\n",
    "- raw input is structured\n",
    "    - Context Text\n",
    "    - $N$ possible answer Texts\n",
    "    \n",
    "- Each potential Answer text\n",
    "- is concatenated to the Context Text\n",
    "- the representation of the final `[CLS]` toke is an alternate representation of the Context/Answer pair\n",
    "- which is fed into a Transformer + Linear network\n",
    "    - the Linear part just changes the dimensions (matrix multiplication, no activation)\n",
    "- and softmax'ed to determine which Context/Answer pair is most likely"
   ]
  },
  {
   "cell_type": "markdown",
   "metadata": {
    "slideshow": {
     "slide_type": "subslide"
    }
   },
   "source": [
    "A quote from the [T5: Text to Text Transfer Transformer](https://arxiv.org/pdf/1910.10683.pdf) paper\n",
    "\n",
    "> With T5, we propose reframing all NLP tasks into a unified text-to-text-format where the input and output are always text strings, in contrast to BERT-style models that can only output either a class label or a span of the input. \n",
    "\n",
    "> **Our text-to-text framework allows us to use the same model, loss function, and hyperparameters on <em>any</em> NLP task, including machine translation, document summarization, question answering, and classification tasks (e.g., sentiment analysis). We can even apply T5 to regression tasks&nbsp;by training it to predict the string representation of a number instead of the number itself.**  <br />\n"
   ]
  },
  {
   "cell_type": "markdown",
   "metadata": {
    "slideshow": {
     "slide_type": "slide"
    }
   },
   "source": [
    "# T5 Pre-processing\n",
    "\n",
    "[Appendix D of the T5 paper](https://arxiv.org/pdf/1910.10683.pdf#page=47) gives examples of\n",
    "how the input text for a given task is transformed into a sequence of words.\n",
    "\n",
    "**Summary**\n",
    "- Structured input is flattened\n",
    "    - Inputs consisting of multiple sentences (each with a different role)\n",
    "    - are flattened into a single sequence\n",
    "    - separated by tags indicating the role of following sentence\n",
    "- A \"task description\" is prepended to the input\n",
    "    - indicating the task to which the example belongs\n",
    "    - remember: this is multi-task training"
   ]
  },
  {
   "cell_type": "markdown",
   "metadata": {
    "slideshow": {
     "slide_type": "subslide"
    }
   },
   "source": [
    "Here is an example of \n",
    "- the Original Input and Target\n",
    "- processed Input and Target\n",
    "\n",
    "for an entailment task (MNLI: Multi Language Natural Inference)\n",
    "\n",
    "**Original input:**\n",
    "\n",
    "    *Hypothesis:* The St. Louis Cardinals have always won.\n",
    "    \n",
    "    *Premise:* yeah well losing is i mean i’m i’m originally from Saint Louis and Saint Louis Cardinals when they were there were uh a mostly a losing team but\n",
    "    \n",
    "**Processed input:**\n",
    "\n",
    "    *mnli* *hypothesis:* The St. Louis Cardinals have always won. *premise:* yeah well losing is i mean i’m i’m originally from Saint Louis and Saint Louis Cardinals when they were there were uh a mostly a losing team but\n",
    "    \n",
    "**Original target:** 2\n",
    "\n",
    "**Processed target:** contradiction\n"
   ]
  },
  {
   "cell_type": "code",
   "execution_count": 1,
   "metadata": {
    "slideshow": {
     "slide_type": "subslide"
    }
   },
   "outputs": [
    {
     "name": "stdout",
     "output_type": "stream",
     "text": [
      "Done\n"
     ]
    }
   ],
   "source": [
    "print(\"Done\")"
   ]
  }
 ],
 "metadata": {
  "celltoolbar": "Slideshow",
  "kernelspec": {
   "display_name": "Python 3",
   "language": "python",
   "name": "python3"
  },
  "language_info": {
   "codemirror_mode": {
    "name": "ipython",
    "version": 3
   },
   "file_extension": ".py",
   "mimetype": "text/x-python",
   "name": "python",
   "nbconvert_exporter": "python",
   "pygments_lexer": "ipython3",
   "version": "3.7.4"
  },
  "toc": {
   "base_numbering": 1,
   "nav_menu": {},
   "number_sections": true,
   "sideBar": true,
   "skip_h1_title": false,
   "title_cell": "Table of Contents",
   "title_sidebar": "Contents",
   "toc_cell": false,
   "toc_position": {},
   "toc_section_display": true,
   "toc_window_display": true
  }
 },
 "nbformat": 4,
 "nbformat_minor": 2
}
