{
 "cells": [
  {
   "cell_type": "code",
   "execution_count": 1,
   "metadata": {
    "slideshow": {
     "slide_type": "notes"
    }
   },
   "outputs": [
    {
     "data": {
      "text/latex": [
       "$$\n",
       "\\newcommand{\\x}{\\mathbf{x}}\n",
       "\\newcommand{\\tx}{\\tilde{\\x}}\n",
       "\\newcommand{\\y}{\\mathbf{y}}\n",
       "\\newcommand{\\b}{\\mathbf{b}}\n",
       "\\newcommand{\\c}{\\mathbf{c}}\n",
       "\\newcommand{\\e}{\\mathbf{e}}\n",
       "\\newcommand{\\z}{\\mathbf{z}}\n",
       "\\newcommand{\\h}{\\mathbf{h}}\n",
       "\\newcommand{\\u}{\\mathbf{u}}\n",
       "\\newcommand{\\v}{\\mathbf{v}}\n",
       "\\newcommand{\\w}{\\mathbf{w}}\n",
       "\\newcommand{\\V}{\\mathbf{V}}\n",
       "\\newcommand{\\W}{\\mathbf{W}}\n",
       "\\newcommand{\\X}{\\mathbf{X}}\n",
       "\\newcommand{\\KL}{\\mathbf{KL}}\n",
       "\\newcommand{\\E}{{\\mathbb{E}}}\n",
       "\\newcommand{\\Reals}{{\\mathbb{R}}}\n",
       "\\newcommand{\\ip}{\\mathbf{{(i)}}}\n",
       "%\n",
       "% Test set\n",
       "\\newcommand{\\xt}{\\underline{\\x}}\n",
       "\\newcommand{\\yt}{\\underline{\\y}}\n",
       "\\newcommand{\\Xt}{\\underline{\\X}}\n",
       "\\newcommand{\\perfm}{\\mathcal{P}}\n",
       "%\n",
       "% \\ll indexes a layer; we can change the actual letter\n",
       "\\newcommand{\\ll}{l}\n",
       "\\newcommand{\\llp}{{(\\ll)}}\n",
       "%\n",
       "\\newcommand{Thetam}{\\Theta_{-0}}\n",
       "\n",
       "% CNN\n",
       "\\newcommand{\\kernel}{\\mathbf{k}} \n",
       "\\newcommand{\\dim}{d}\n",
       "\\newcommand{\\idxspatial}{{\\text{idx}}}\n",
       "\\newcommand{\\summaxact}{\\text{max}}\n",
       "%\n",
       "%\n",
       "\n",
       "% RNN\n",
       "% \\tt indexes a time step\n",
       "\\newcommand{\\tt}{t}\n",
       "\\newcommand{\\tp}{{(\\tt)}}\n",
       "%\n",
       "%\n",
       "\n",
       "% LSTM\n",
       "\\newcommand{\\g}{\\mathbf{g}}\n",
       "\\newcommand{\\remember}{\\mathbf{remember}}\n",
       "\\newcommand{\\save}{\\mathbf{save}}\n",
       "\\newcommand{\\focus}{\\mathbf{focus}}\n",
       "%\n",
       "%\n",
       "% NLP\n",
       "\\newcommand{\\Vocab}{\\mathbf{V}}\n",
       "\\newcommand{\\v}{\\mathbf{v}}\n",
       "\\newcommand{\\offset}{o}\n",
       "\\newcommand{\\o}{o}\n",
       "\\newcommand{\\Emb}{\\mathbf{E}}\n",
       "%\n",
       "%\n",
       "\\newcommand{\\loss}{\\mathcal{L}}\n",
       "\\newcommand{\\cost}{\\mathcal{L}}\n",
       "%\n",
       "%                     \n",
       "\\newcommand{\\pdata}{p_\\text{data}}\n",
       "\\newcommand{\\pmodel}{p_\\text{model}}\n",
       "%\n",
       "% SVM\n",
       "\\newcommand{\\margin}{{\\mathbb{m}}}\n",
       "\\newcommand{\\lmk}{\\boldsymbol{\\ell}}\n",
       "%\n",
       "% Functions with arguments\n",
       "\\def\\xsy#1#2{#1^#2}\n",
       "\\def\\rand#1{\\tilde{#1}}\n",
       "\\def\\randx{\\rand{\\x}}\n",
       "\\def\\randy{\\rand{\\y}}\n",
       "\\def\\trans#1{\\dot{#1}}\n",
       "\\def\\transx{\\trans{\\x}}\n",
       "\\def\\transy{\\trans{\\y}}\n",
       "%\n",
       "\\def\\argmax#1{\\underset{#1} {\\operatorname{argmax}} }\n",
       "\\def\\argmin#1{\\underset{#1} {\\operatorname{argmin}} }\n",
       "\\def\\max#1{\\underset{#1} {\\operatorname{max}} }\n",
       "\\def\\min#1{\\underset{#1} {\\operatorname{min}} }\n",
       "%\n",
       "\\def\\pr#1{\\mathcal{p}(#1)}\n",
       "\\def\\prc#1#2{\\mathcal{p}(#1 \\; | \\; #2)}\n",
       "\\def\\cnt#1{\\mathcal{count}_{#1}}\n",
       "\\def\\node#1{\\mathbb{#1}}\n",
       "%\n",
       "\\def\\loc#1{{\\text{##} {#1}}}\n",
       "%\n",
       "\\def\\OrderOf#1{\\mathcal{O}\\left( #1 \\right)}\n",
       "%\n",
       "% Expectation operator\n",
       "\\def\\Exp#1{\\underset{#1} {\\operatorname{\\mathbb{E}}} }\n",
       "%\n",
       "% Reinforcement learning\n",
       "\\newcommand{\\Actions}{{\\mathcal{A}}} \n",
       "\\newcommand{\\actseq}{A}\n",
       "\\newcommand{\\act}{a}\n",
       "\\newcommand{\\States}{{\\mathcal{S}}}   \n",
       "\\newcommand{\\stateseq}{S}  \n",
       "\\newcommand{\\state}{s}\n",
       "\\newcommand{\\Rewards}{{\\mathcal{R}}}\n",
       "\\newcommand{\\rewseq}{R}\n",
       "\\newcommand{\\rew}{r}\n",
       "\\newcommand{\\transp}{P}\n",
       "\\newcommand{\\statevalfun}{v}\n",
       "\\newcommand{\\actvalfun}{q}\n",
       "\\newcommand{\\disc}{\\gamma}\n",
       "%\n",
       "%\n",
       "\\newcommand{\\floor}[1]{\\left\\lfloor #1 \\right\\rfloor}\n",
       "\\newcommand{\\ceil}[1]{\\left\\lceil #1 \\right\\rceil}\n",
       "%\n",
       "%\n",
       "$$\n"
      ],
      "text/plain": [
       "<IPython.core.display.Latex object>"
      ]
     },
     "metadata": {},
     "output_type": "display_data"
    }
   ],
   "source": [
    "%run Latex_macros.ipynb"
   ]
  },
  {
   "cell_type": "markdown",
   "metadata": {
    "slideshow": {
     "slide_type": "slide"
    }
   },
   "source": [
    "# Bigger = Better ?  Scaling laws\n",
    "\n",
    "There are many LLM's, with varying choices of\n",
    "- number of parameters $N$\n",
    "- size of training dataset $D$\n",
    "- amount of compute for training $C$\n",
    "\n",
    "Here is a table from the [GPT-3 paper](https://arxiv.org/pdf/2005.14165.pdf#page=46)"
   ]
  },
  {
   "cell_type": "markdown",
   "metadata": {
    "slideshow": {
     "slide_type": "subslide"
    }
   },
   "source": [
    "<img src=\"images/compute_by_model.png\" width=90%>"
   ]
  },
  {
   "cell_type": "markdown",
   "metadata": {
    "slideshow": {
     "slide_type": "subslide"
    }
   },
   "source": [
    "We have already seen that some LLM properties\n",
    "- like in-context learning (zero or few shot)\n",
    "- \"emerge\" only when model size passes a threshold\n",
    "\n",
    "This argues for bigger models.\n",
    "\n",
    "<img src=\"images/LM_Few_Shot_Accuracy.png\" width=80%>\n",
    "                                           "
   ]
  },
  {
   "cell_type": "markdown",
   "metadata": {
    "slideshow": {
     "slide_type": "subslide"
    }
   },
   "source": [
    "There is also evidence that the emergence of ability to perform some in-context tasks\n",
    "- is sudden\n",
    "- rather than gradual\n",
    "as the number of parameters increase.\n",
    "\n",
    "<img src=\"images/arithmetic_LLM_by_size.png\">\n",
    "\n",
    "Attribution: [GPT-3 paper](https://arxiv.org/pdf/2005.14165.pdf#page=46)\n"
   ]
  },
  {
   "cell_type": "markdown",
   "metadata": {
    "slideshow": {
     "slide_type": "subslide"
    }
   },
   "source": [
    "Is bigger $N$ always better ?\n",
    "\n",
    "Consider the costs.  Larger $N$\n",
    "- entails more computation: larger $C$\n",
    "- probably requires more training data: larger $D$\n",
    "\n",
    "If we fix a \"budget\" for one choice (e.g., $C$) we can explore choices for $N, D$ that meet this budget."
   ]
  },
  {
   "cell_type": "markdown",
   "metadata": {
    "slideshow": {
     "slide_type": "subslide"
    }
   },
   "source": [
    "Here are two models with the same $C$ budget\n",
    "- but vastly different $N$ and $D$\n",
    "\n",
    "\n",
    "model | Compute (PF-days) | params (M) | training tokens (B) |\n",
    ":---|:---|:---|:---\n",
    "RoBERTa-Large | 49.3 | 355 | 2000\n",
    "GPT-3 2.7B    | 55.2 | 2650 | 300\n",
    "\n",
    "Attribution: [GPT-3 paper](https://arxiv.org/pdf/2005.14165.pdf#page=46)"
   ]
  },
  {
   "cell_type": "markdown",
   "metadata": {
    "slideshow": {
     "slide_type": "subslide"
    }
   },
   "source": [
    "Given these choices: how do we choose ?\n",
    "\n",
    "One way to quantify the decision is by setting a goal\n",
    "- to maximize \"performance\"\n",
    "- where this is usually proxied by \"minimizing test loss\" $L$\n",
    "    - Cross Entropy for the \"predict the next\" token task of the LLM\n",
    " "
   ]
  },
  {
   "cell_type": "markdown",
   "metadata": {
    "slideshow": {
     "slide_type": "subslide"
    }
   },
   "source": [
    "We can state some basic theories\n",
    "- Increasing $N$ creates the *potential* for better performance $L$\n",
    "- To *actualize* the potential\n",
    "    - we need increased $C$\n",
    "        - more parameters via increasing the number of stacked Transformer Blocks\n",
    "    - we need increased $D$"
   ]
  },
  {
   "cell_type": "markdown",
   "metadata": {
    "slideshow": {
     "slide_type": "subslide"
    }
   },
   "source": [
    "But this still leaves many unanswered questions\n",
    "- Can $L$ always be reduced ?\n",
    "    - Does performance hit a \"ceiling\" \n",
    "    - For a fixed $N$: perhaps increasing $D$ or $C$ won't help\n",
    "- What is the relationship between $N$ and $D$ ?\n",
    "    - how much must $D$ by increased when $N$ increases\n",
    "- For a fixed $D$: what is the best choice for $N$ ?\n",
    "    - holding performance constant"
   ]
  },
  {
   "cell_type": "markdown",
   "metadata": {
    "slideshow": {
     "slide_type": "slide"
    }
   },
   "source": [
    "# Scaling Laws\n",
    "\n",
    "Fortunately, this\n",
    "[paper](https://arxiv.org/pdf/2001.08361.pdf)\n",
    "has \n",
    "- conducted an empirical study of models with varying $N, D, C$ and resulting $L$\n",
    "- fit an empirical function (*Scaling Laws*) describing the dependency of $L$ on $N, D, C$.\n",
    "\n",
    "We briefly summarize the results."
   ]
  },
  {
   "cell_type": "markdown",
   "metadata": {
    "slideshow": {
     "slide_type": "subslide"
    }
   },
   "source": [
    "\"Performance\" (test loss $L$ ) depends on scale.\n",
    "\n",
    "Scale consists of 3 components\n",
    "- Compute $C$\n",
    "- Dataset size $D$\n",
    "- Parameters $N$\n",
    "\n",
    "We can set a \"budget\" for any of variables $L, N, D, C$\n",
    "- and examine trade-offs for the non-fixed variable\n"
   ]
  },
  {
   "cell_type": "markdown",
   "metadata": {
    "slideshow": {
     "slide_type": "subslide"
    }
   },
   "source": [
    "The paper shows that \n",
    "- Increasing your budget for one of the scale factors\n",
    "- increases performance (decrease loss)\n",
    "- **provided** the other two factors don't become bottlenecks\n",
    "\n",
    "<img src=\"images/scaling_loss_v_scale.png\">"
   ]
  },
  {
   "cell_type": "markdown",
   "metadata": {
    "slideshow": {
     "slide_type": "subslide"
    }
   },
   "source": [
    "But bottlenecks are a worry:\n",
    "- The potential performance of a model of fixed size $N$ hits a \"ceiling\"\n",
    "- That can't be overcome by increasing compute $C$\n",
    "\n",
    "<img src=\"images/scaling_loss_vs_compute.png\">"
   ]
  },
  {
   "cell_type": "markdown",
   "metadata": {
    "slideshow": {
     "slide_type": "subslide"
    }
   },
   "source": [
    "**Observation**\n",
    "\n",
    "For a fixed Compute $C$\n",
    "- a smaller model (that has reached its asymptotic minimum) has better performance\n",
    "- provided that there is enough training data\n",
    "\n",
    "This is interesting in that more data $D$ may compensate for fewer parameters\n",
    "- we may be able to create \"small\" models (fewer parameters)\n",
    "- with performance equal to larger models\n",
    "- given sufficient $D$\n"
   ]
  },
  {
   "cell_type": "markdown",
   "metadata": {
    "slideshow": {
     "slide_type": "subslide"
    }
   },
   "source": [
    "We can also set a performance budget $L$\n",
    "- and examine the amount of training data $D$ to reach this budget\n",
    "- as $N$ varies\n",
    "\n",
    "<img src=\"images/scaling_loss_vs_datasize.png\">\n",
    "\n",
    "**Observation**\n",
    "\n",
    "For a fixed $D$ \n",
    "- bigger models have better performance\n",
    "- but at a higher $C$"
   ]
  },
  {
   "cell_type": "markdown",
   "metadata": {
    "slideshow": {
     "slide_type": "subslide"
    }
   },
   "source": [
    "Here is one graph that combines $N$ and $D$\n",
    "\n",
    "<img src=\"images/scaling_loss_vs_D_and_N.png\">"
   ]
  },
  {
   "cell_type": "markdown",
   "metadata": {
    "slideshow": {
     "slide_type": "subslide"
    }
   },
   "source": [
    "The [Scaling Laws](https://arxiv.org/pdf/2001.08361.pdf#page=4)\n",
    "show that Loss follows a Power Law as a function of $N, C, D$.\n",
    "\n",
    "[Here](https://arxiv.org/pdf/2001.08361.pdf#page=20) is a summary of the Scaling Laws.\n",
    "\n",
    "<img src=\"images/scaling_power_laws_summary.png\">"
   ]
  },
  {
   "cell_type": "markdown",
   "metadata": {
    "slideshow": {
     "slide_type": "slide"
    }
   },
   "source": [
    "# More Recent results\n",
    "\n",
    "Answering the same question as the [original paper](https://arxiv.org/pdf/2001.08361.pdf)\n",
    "- a [more general approach](https://arxiv.org/pdf/2203.15556.pdf) to the same question\n",
    "- leads to somewhat different conclusions\n",
    "\n",
    "Stated more directly, the paper proposes an empirical function to estimate the optimal $N$ and $D$\n",
    "- for a fixed compute budget $C$\n",
    "\n",
    "$$\n",
    "N_\\text{opt}, D_\\text{opt} = \\argmin{ N, D \\text{ s.t. } C=\\text{FLOPS}(N,D)}{L(N,D)}\n",
    "$$\n",
    "\n",
    "where $L(N,D)$ is the early-stopped loss\n",
    "- not trained to optimal converged $L$\n",
    "- which would require more than the compute budget $C$"
   ]
  },
  {
   "cell_type": "markdown",
   "metadata": {
    "slideshow": {
     "slide_type": "subslide"
    }
   },
   "source": [
    "One point of departure between the two papers:\n",
    "- the second paper uses a *learning rate schedule* that varies with $D$\n",
    "    - decay to a fixed fraction of the initial rate, based on length of $D$\n",
    "- versus a *fixed* learning rate schedule used by the first paper\n",
    "\n",
    "The second paper contends that \n",
    "- failing to use a variable learning rate\n",
    "- causes an *over-estimate* of $L$ when $D < 130B$"
   ]
  },
  {
   "cell_type": "markdown",
   "metadata": {
    "slideshow": {
     "slide_type": "subslide"
    }
   },
   "source": [
    "Using the overestimate in fitting an empirical function causes a difference in conclusions.\n",
    "- The second paper concludes that $D$ should grow linearly with $N$\n",
    "- rather than sub-linearly ($D = N^{0.74}$)"
   ]
  },
  {
   "cell_type": "markdown",
   "metadata": {
    "slideshow": {
     "slide_type": "subslide"
    }
   },
   "source": [
    "\n",
    "In comparing the optimal values for a variable (e.g., $C$) between paper 1 and paper 2\n",
    "- we use subscript $j$ to refer to the value in paper $j \\in \\{,2\\}$"
   ]
  },
  {
   "cell_type": "markdown",
   "metadata": {
    "slideshow": {
     "slide_type": "subslide"
    }
   },
   "source": [
    "Here are some [conclusions](https://arxiv.org/pdf/2203.15556.pdf#page=7) offered in the second paper\n",
    "- Most LLM's use an $N$ that is *too large* given their *ocmpute budgets*\n",
    "- For $N = 175B$ (GPT-3), an optimal version of GPT-3 \n",
    "    - needs to be trained longer than the actual\n",
    "        - $C_2 = 4.4 * 10^{24}$ Flops versus actual $C_1 = 3.1 * 10^{23}$\n",
    "    - on more tokens $D$\n",
    "        - $D_2 = 4.2T$ versus $D_1 = 0.3T$\n",
    "- For current models much larger than GPT-3 ($N > 175B$)\n",
    "    - the optimal $C_2$ and $D_2$ are not realistic in practical terms"
   ]
  },
  {
   "cell_type": "markdown",
   "metadata": {
    "slideshow": {
     "slide_type": "subslide"
    }
   },
   "source": [
    "Using the projected optimal values\n",
    "- the second paper started with a model called Gopher with $N = 280B$\n",
    "- set a compute budget equal to that used for Gopher\n",
    "- to derive an optimal $N_2 = 70B$ and $D_2 = 1.4T$\n",
    "- and trained a smaller model called Chinchilla "
   ]
  },
  {
   "cell_type": "markdown",
   "metadata": {
    "slideshow": {
     "slide_type": "subslide"
    }
   },
   "source": [
    "Chinchilla, although only $25\\%$ as large as Gopher\n",
    "- outperforms on many benchmarks\n",
    "\n",
    "So perhaps the future will see\n",
    "- a trend to smaller models\n",
    "- with more data\n",
    "\n",
    "This may be particularly relevant\n",
    "- with the use of non-parametric knowledge (external knowledge sources, like the Web)\n",
    "- naturally reduced $N$"
   ]
  },
  {
   "cell_type": "markdown",
   "metadata": {
    "slideshow": {
     "slide_type": "slide"
    }
   },
   "source": [
    "# Test-time cost versus Train-time cost\n",
    "\n",
    "We have been focused on the cost of *training*\n",
    "- cost of a forward pass\n",
    "- cost of a backward pass\n",
    "- summed over many training examples\n"
   ]
  },
  {
   "cell_type": "markdown",
   "metadata": {
    "slideshow": {
     "slide_type": "subslide"
    }
   },
   "source": [
    "Post-training, at test time, the cost of prediction is\n",
    "- cost of a forward pass\n",
    "\n",
    "The way that $N$ (number of parameters) usually increases in a Transformer Architecture\n",
    "- is by stacking an increasing number of Transformer blocks."
   ]
  },
  {
   "cell_type": "markdown",
   "metadata": {
    "slideshow": {
     "slide_type": "subslide"
    }
   },
   "source": [
    "This increases the path length of a forward path.\n",
    "\n",
    "So making *predictions* using a bigger model will be more costly than doing so in a smaller model.\n",
    "\n",
    "If you are running a prediction service at large scale (e.g., ChatGPT)\n",
    "- you need increased compute\n",
    "- to support the same number of predictions\n",
    "- on a bigger model than a smaller one.\n",
    "\n",
    "So smaller models have test-time as well as train-time advantages."
   ]
  },
  {
   "cell_type": "code",
   "execution_count": 2,
   "metadata": {
    "slideshow": {
     "slide_type": "slide"
    }
   },
   "outputs": [
    {
     "name": "stdout",
     "output_type": "stream",
     "text": [
      "Done\n"
     ]
    }
   ],
   "source": [
    "print(\"Done\")"
   ]
  }
 ],
 "metadata": {
  "celltoolbar": "Slideshow",
  "kernelspec": {
   "display_name": "Python 3",
   "language": "python",
   "name": "python3"
  },
  "language_info": {
   "codemirror_mode": {
    "name": "ipython",
    "version": 3
   },
   "file_extension": ".py",
   "mimetype": "text/x-python",
   "name": "python",
   "nbconvert_exporter": "python",
   "pygments_lexer": "ipython3",
   "version": "3.7.4"
  },
  "toc": {
   "base_numbering": 1,
   "nav_menu": {},
   "number_sections": true,
   "sideBar": true,
   "skip_h1_title": false,
   "title_cell": "Table of Contents",
   "title_sidebar": "Contents",
   "toc_cell": false,
   "toc_position": {},
   "toc_section_display": true,
   "toc_window_display": true
  }
 },
 "nbformat": 4,
 "nbformat_minor": 2
}
